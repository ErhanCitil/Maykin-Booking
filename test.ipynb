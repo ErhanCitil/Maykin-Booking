{
 "cells": [
  {
   "cell_type": "code",
   "execution_count": 2,
   "metadata": {},
   "outputs": [
    {
     "data": {
      "text/plain": [
       "array(['Amsterdam', 'Antwerpen', 'Athene', 'Bangkok', 'Barcelona',\n",
       "       'Berlijn'], dtype=object)"
      ]
     },
     "execution_count": 2,
     "metadata": {},
     "output_type": "execute_result"
    }
   ],
   "source": [
    "import pandas as pd\n",
    "\n",
    "citydata = pd.read_csv('Case Maykin Media - Django - CSV data/city.csv', names=['city_id', 'city_name'], sep=\";\", header=None)\n",
    "hoteldata = pd.read_csv('Case Maykin Media - Django - CSV data/hotel.csv', names=['city_id', 'hotel_id', 'hotel_name', '3'], sep=\";\", header=None)\n",
    "\n",
    "hoteldata.drop(columns=['3'], inplace=True)\n",
    "\n",
    "df = pd.merge(citydata, hoteldata, on='city_id')\n",
    "\n",
    "df['city_name'].unique()"
   ]
  }
 ],
 "metadata": {
  "kernelspec": {
   "display_name": "Python 3.10.5 64-bit",
   "language": "python",
   "name": "python3"
  },
  "language_info": {
   "codemirror_mode": {
    "name": "ipython",
    "version": 3
   },
   "file_extension": ".py",
   "mimetype": "text/x-python",
   "name": "python",
   "nbconvert_exporter": "python",
   "pygments_lexer": "ipython3",
   "version": "3.10.5"
  },
  "orig_nbformat": 4,
  "vscode": {
   "interpreter": {
    "hash": "0ac21f6340e884794d96b502df561fec374cccccf6dd986e2b15dde0f0c28675"
   }
  }
 },
 "nbformat": 4,
 "nbformat_minor": 2
}
