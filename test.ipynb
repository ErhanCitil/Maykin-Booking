{
 "cells": [
  {
   "cell_type": "code",
   "execution_count": 1,
   "metadata": {},
   "outputs": [
    {
     "data": {
      "text/html": [
       "<div>\n",
       "<style scoped>\n",
       "    .dataframe tbody tr th:only-of-type {\n",
       "        vertical-align: middle;\n",
       "    }\n",
       "\n",
       "    .dataframe tbody tr th {\n",
       "        vertical-align: top;\n",
       "    }\n",
       "\n",
       "    .dataframe thead th {\n",
       "        text-align: right;\n",
       "    }\n",
       "</style>\n",
       "<table border=\"1\" class=\"dataframe\">\n",
       "  <thead>\n",
       "    <tr style=\"text-align: right;\">\n",
       "      <th></th>\n",
       "      <th>city_id</th>\n",
       "      <th>city_name</th>\n",
       "      <th>hotel_id</th>\n",
       "      <th>hotel_name</th>\n",
       "    </tr>\n",
       "  </thead>\n",
       "  <tbody>\n",
       "    <tr>\n",
       "      <th>0</th>\n",
       "      <td>AMS</td>\n",
       "      <td>Amsterdam</td>\n",
       "      <td>AMS01</td>\n",
       "      <td>Ibis Amsterdam Airport</td>\n",
       "    </tr>\n",
       "    <tr>\n",
       "      <th>1</th>\n",
       "      <td>AMS</td>\n",
       "      <td>Amsterdam</td>\n",
       "      <td>AMS02</td>\n",
       "      <td>Novotel Amsterdam Airport</td>\n",
       "    </tr>\n",
       "    <tr>\n",
       "      <th>2</th>\n",
       "      <td>ANT</td>\n",
       "      <td>Antwerpen</td>\n",
       "      <td>ANT01</td>\n",
       "      <td>Express by Holiday Inn</td>\n",
       "    </tr>\n",
       "    <tr>\n",
       "      <th>3</th>\n",
       "      <td>ANT</td>\n",
       "      <td>Antwerpen</td>\n",
       "      <td>ANT02</td>\n",
       "      <td>Eden</td>\n",
       "    </tr>\n",
       "    <tr>\n",
       "      <th>4</th>\n",
       "      <td>ANT</td>\n",
       "      <td>Antwerpen</td>\n",
       "      <td>ANT04</td>\n",
       "      <td>Astoria</td>\n",
       "    </tr>\n",
       "  </tbody>\n",
       "</table>\n",
       "</div>"
      ],
      "text/plain": [
       "  city_id  city_name hotel_id                 hotel_name\n",
       "0     AMS  Amsterdam    AMS01     Ibis Amsterdam Airport\n",
       "1     AMS  Amsterdam    AMS02  Novotel Amsterdam Airport\n",
       "2     ANT  Antwerpen    ANT01     Express by Holiday Inn\n",
       "3     ANT  Antwerpen    ANT02                       Eden\n",
       "4     ANT  Antwerpen    ANT04                    Astoria"
      ]
     },
     "execution_count": 1,
     "metadata": {},
     "output_type": "execute_result"
    }
   ],
   "source": [
    "import pandas as pd\n",
    "\n",
    "citydata = pd.read_csv('Case Maykin Media - Django - CSV data/city.csv', names=['city_id', 'city_name'], sep=\";\", header=None)\n",
    "hoteldata = pd.read_csv('Case Maykin Media - Django - CSV data/hotel.csv', names=['city_id', 'hotel_id', 'hotel_name', '3'], sep=\";\", header=None)\n",
    "\n",
    "hoteldata.drop(columns=['3'], inplace=True)\n",
    "\n",
    "\n",
    "df = pd.merge(citydata, hoteldata, on='city_id')\n",
    "\n",
    "df.head()"
   ]
  }
 ],
 "metadata": {
  "kernelspec": {
   "display_name": "Python 3.10.5 64-bit",
   "language": "python",
   "name": "python3"
  },
  "language_info": {
   "codemirror_mode": {
    "name": "ipython",
    "version": 3
   },
   "file_extension": ".py",
   "mimetype": "text/x-python",
   "name": "python",
   "nbconvert_exporter": "python",
   "pygments_lexer": "ipython3",
   "version": "3.10.5"
  },
  "orig_nbformat": 4,
  "vscode": {
   "interpreter": {
    "hash": "0ac21f6340e884794d96b502df561fec374cccccf6dd986e2b15dde0f0c28675"
   }
  }
 },
 "nbformat": 4,
 "nbformat_minor": 2
}
